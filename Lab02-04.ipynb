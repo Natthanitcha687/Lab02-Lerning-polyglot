{
 "cells": [
  {
   "cell_type": "markdown",
   "metadata": {
    "dotnet_interactive": {
     "language": "csharp"
    },
    "polyglot_notebook": {
     "kernelName": "csharp"
    }
   },
   "source": [
    "# Lab 2.4 Magic command"
   ]
  },
  {
   "cell_type": "markdown",
   "metadata": {},
   "source": [
    "เนื้อหา https://github.com/dotnet/interactive/blob/main/docs/magic-commands.md"
   ]
  },
  {
   "cell_type": "markdown",
   "metadata": {},
   "source": [
    "Magic command เป็นคำสั่งพิเศษที่สามารถกำหนดเงื่อนไขต่างๆ ใน cell  \n",
    "แนวคิดของคำสั่ง Magic command ได้ยืมมาจาก  Jupyter แต่จะมีการเปลี่ยนแปลงเล็กน้อยในไวยากรณ์เพื่อรองรับภาษา .NET \n",
    "\n",
    "> ลักษณะเฉพาะของ Magic command\n",
    "\n",
    "1. จะต้องเริ่มต้นที่จุดเริ่มต้นของบรรทัดเสมอและต้องเขียนให้จบในบรรทัดเดียว \n",
    "2. ต้องขึ้นต้นด้วย #! หรือ #  (คำสั่ง # จะเกิดขึ้นเฉพาะเมื่อมีการรวมพฤติกรรมเข้ากับคำสั่งคอมไพเลอร์เฉพาะภาษา เช่น #r )\n",
    "3. Magic command ของ polyglot ต่างจากของ Jupyter ตรงที่ไม่มีการแยกความแตกต่างระหว่าง \"cell magic\" กับ \"line magic\""
   ]
  },
  {
   "cell_type": "markdown",
   "metadata": {},
   "source": [
    "> ตัวอย่าง คำสั่ง #!time \n",
    "\n",
    "\n",
    "คำสั่ง #!time  ถูกใช้เพื่อวัดเวลาในการทำงานของคำสั่งหรือโปรแกรม\n",
    "\n",
    "ให้เขียน Code ต่อไปนี้ในภาษา Csharp แล้วรัน เพื่อวัดเวลาในการประมวลผลของโปรแกรม"
   ]
  },
  {
   "cell_type": "markdown",
   "metadata": {},
   "source": [
    "``` csharp\n",
    "#!csharp\n",
    "#!time\n",
    "await Task.Delay(1000);\n",
    "```"
   ]
  },
  {
   "cell_type": "markdown",
   "metadata": {},
   "source": [
    "## Global magic commands\n",
    "\n",
    "| Command                               | Behavior                               \n",
    "|---------------------------------------|----------------------------------------------------------------------\n",
    "| `#!about`                             | แสดงข้อมูลเกี่ยวกับเวอร์ชันของเคอร์เนล\n",
    "| [`#!import`](import-magic-command.md) | รันโค้ดจากสมุดบันทึกอื่นหรือไฟล์โค้ดต้นฉบับ\n",
    "| `#!lsmagic`                           | แสดงรายการคำสั่ง magic command ที่มีอยู่ (รวมถึงคำสั่งที่อาจได้รับการติดตั้งผ่านส่วนขยาย)\n",
    "| `#!markdown`                          | ระบุว่าโค้ดต่อไปนี้เป็น Markdown ซึ่งสามารถแสดงผลเป็น HTML ในเบราว์เซอร์ได้โดยตรง\n",
    "| [`#!share`](variable-sharing.md)      | แชร์ตัวแปรจากซับเคอร์เนลที่ระบุอื่น (รวมถึงซับเคอร์เนลที่จัดเก็บโดยใช้ #!value)\n",
    "| [`#!set`](variable-sharing.md)        | ตั้งค่าในเคอร์เนลปัจจุบัน (รวมถึงการสนับสนุนสำหรับอินพุตและตัวอักษร)\n",
    "| `#!time`                              | วัดเวลาการดำเนินการของโค้ด\n",
    "| `#!connect`                           | เปิดใช้งานการเชื่อมต่อเคอร์เนลเพิ่มเติม"
   ]
  },
  {
   "cell_type": "markdown",
   "metadata": {},
   "source": [
    "## Kernel chooser magic commands\n",
    "| Command                               | Behavior                               \n",
    "|---------------------------------------|----------------------------------------------------------------------\n",
    "| `#!csharp` (also: `#!c#`, `#!C#`)     | ระบุว่าโค้ดต่อไปนี้เป็น C# (โดยเฉพาะอย่างยิ่งภาษาสคริปต์ C#)\n",
    "| `#!fsharp` (also: `#!f#`, `#!F#`)     | ระบุว่าโค้ดต่อไปนี้เป็น  F#.\n",
    "| `#!html`                              | ระบุว่าโค้ดต่อไปนี้เป็น HTML ที่สามารถแสดงผลในเบราว์เซอร์ได้โดยตรง\n",
    "| `#!javascript` (also: `#!js`)         | ระบุว่าโค้ดต่อไปนี้เป็น JavaScript ที่ต้องดำเนินการในเบราว์เซอร์\n",
    "| `#!kql`                               | ให้ข้อมูลเกี่ยวกับวิธีการเพิ่มเคอร์เนล KQL (Kusto Query Language) เฉพาะการเชื่อมต่อลงในเซสชันแบบโต้ตอบ\n",
    "| `#!mermaid`                           | ระบุว่าโค้ดต่อไปนี้คือ Mermaid ผลลัพธ์จะแสดงออกมาเป็นภาพ\n",
    "| `#!pwsh` (also: `#!powershell`)       | ระบุว่าโค้ดต่อไปนี้คือ PowerShell\n",
    "| `#!sql`                               | ให้ข้อมูลเกี่ยวกับวิธีการเพิ่มเคอร์เนล SQL เฉพาะการเชื่อมต่อลงในเซสชันแบบโต้ตอบ\n",
    "| `#!value`                             | เก็บค่า (จากข้อความที่ป้อน จากไฟล์ หรือ จาก URL) ซึ่งสามารถเข้าถึงได้โดยใช้ #!share"
   ]
  },
  {
   "cell_type": "markdown",
   "metadata": {},
   "source": [
    "## ตัวอย่าง การเรียกใช้ mermaid เพื่อวาดไดอะแกรม"
   ]
  },
  {
   "cell_type": "markdown",
   "metadata": {},
   "source": [
    "อ้างอิง https://mermaid.js.org/intro/"
   ]
  },
  {
   "cell_type": "markdown",
   "metadata": {},
   "source": [
    "> สร้าง code cell ใหม่ แล้วพิมพ์ข้อความต่อไปนี้ลงไปใน cell แล้วกด Ctrl + Enter เพื่อดูผลลัพธ์"
   ]
  },
  {
   "cell_type": "code",
   "execution_count": null,
   "metadata": {
    "dotnet_interactive": {
     "language": "csharp"
    },
    "polyglot_notebook": {
     "kernelName": "csharp"
    }
   },
   "outputs": [],
   "source": [
    "#!mermaid\n",
    "pie title NETFLIX\n",
    "        \"Time spent looking for movie\" : 90\n",
    "        \"Time spent watching it\" : 10"
   ]
  },
  {
   "cell_type": "markdown",
   "metadata": {},
   "source": [
    "```mermaid\n",
    "#!mermaid\n",
    "pie title NETFLIX\n",
    "         \"Time spent looking for movie\" : 90\n",
    "         \"Time spent watching it\" : 10\n",
    "```"
   ]
  },
  {
   "cell_type": "markdown",
   "metadata": {},
   "source": [
    "> ตัวอย่าง การวาด Flow chart ใน mermaid\n",
    "\n",
    "อ้างอิง https://mermaid.js.org/syntax/flowchart.html"
   ]
  },
  {
   "cell_type": "code",
   "execution_count": null,
   "metadata": {
    "dotnet_interactive": {
     "language": "csharp"
    },
    "polyglot_notebook": {
     "kernelName": "csharp"
    }
   },
   "outputs": [],
   "source": [
    "#!mermaid\n",
    "flowchart TD\n",
    "    A[Start] --> B{Is it?}\n",
    "    B -->|Yes| C[OK]\n",
    "    C --> D[Rethink]\n",
    "    D --> B\n",
    "    B -->|No| E[End]"
   ]
  },
  {
   "cell_type": "markdown",
   "metadata": {},
   "source": [
    "```mermaid\n",
    "#!mermaid\n",
    "flowchart TD\n",
    "    A[Start] --> B{Is it?}\n",
    "    B -->|Yes| C[OK]\n",
    "    C --> D[Rethink]\n",
    "    D --> B\n",
    "    B ---->|No| E[End]\n",
    "```"
   ]
  },
  {
   "cell_type": "code",
   "execution_count": null,
   "metadata": {},
   "outputs": [
    {
     "ename": "Error",
     "evalue": "(1,1): error CS1024: Preprocessor directive expected\r\n(3,19): error CS1002: ; expected\r\n(3,56): error CS1002: ; expected\r\n(5,9): error CS1002: ; expected\r\n(5,28): error CS1002: ; expected\r\n(5,30): error CS1003: Syntax error, '(' expected\r\n(7,3): error CS1003: Syntax error, ']' expected\r\n(7,3): error CS1026: ) expected\r\n(7,5): error CS1003: Syntax error, '(' expected\r\n(7,5): error CS1525: Invalid expression term ']'\r\n(7,5): error CS1026: ) expected\r\n(7,5): error CS1525: Invalid expression term ']'\r\n(7,5): error CS1002: ; expected\r\n(7,5): error CS7017: Member definition, statement, or end-of-file expected\r\n(7,7): error CS1525: Invalid expression term '.'\r\n(7,8): error CS1001: Identifier expected\r\n(7,16): error CS1525: Invalid expression term 'if'\r\n(7,16): error CS1026: ) expected\r\n(7,16): error CS1002: ; expected\r\n(7,18): error CS1003: Syntax error, '(' expected\r\n(7,18): error CS1525: Invalid expression term '.'\r\n(9,9): error CS1002: ; expected\r\n(9,28): error CS1002: ; expected\r\n(9,30): error CS1003: Syntax error, '(' expected\r\n(9,31): error CS1525: Invalid expression term 'else'\r\n(9,31): error CS1026: ) expected\r\n(9,31): error CS8641: 'else' cannot start a statement.\r\n(9,31): error CS1003: Syntax error, '(' expected\r\n(9,31): error CS1525: Invalid expression term 'else'\r\n(9,31): error CS1026: ) expected\r\n(9,31): error CS1525: Invalid expression term 'else'\r\n(9,31): error CS1002: ; expected\r\n(11,3): error CS1003: Syntax error, ']' expected\r\n(11,3): error CS1002: ; expected\r\n(11,5): error CS1003: Syntax error, '(' expected\r\n(11,6): error CS1525: Invalid expression term 'else'\r\n(11,6): error CS1026: ) expected\r\n(11,6): error CS8641: 'else' cannot start a statement.\r\n(11,6): error CS1003: Syntax error, '(' expected\r\n(11,6): error CS1525: Invalid expression term 'else'\r\n(11,6): error CS1026: ) expected\r\n(11,6): error CS1525: Invalid expression term 'else'\r\n(11,6): error CS1002: ; expected\r\n(11,10): error CS1525: Invalid expression term ']'\r\n(11,10): error CS1002: ; expected\r\n(11,10): error CS7017: Member definition, statement, or end-of-file expected\r\n(11,12): error CS1525: Invalid expression term '.'\r\n(11,13): error CS1001: Identifier expected\r\n(11,21): error CS1525: Invalid expression term 'if'\r\n(11,21): error CS1026: ) expected\r\n(11,21): error CS1002: ; expected\r\n(11,23): error CS1003: Syntax error, '(' expected\r\n(11,24): error CS1525: Invalid expression term 'else'\r\n(11,24): error CS1026: ) expected\r\n(11,24): error CS8641: 'else' cannot start a statement.\r\n(11,24): error CS1003: Syntax error, '(' expected\r\n(11,24): error CS1525: Invalid expression term 'else'\r\n(11,24): error CS1026: ) expected\r\n(11,24): error CS1525: Invalid expression term 'else'\r\n(11,24): error CS1002: ; expected\r\n(11,28): error CS1525: Invalid expression term '.'\r\n(11,32): error CS1002: ; expected\r\n(11,32): error CS7017: Member definition, statement, or end-of-file expected\r\n(13,9): error CS1002: ; expected\r\n(13,28): error CS1002: ; expected\r\n(13,30): error CS1003: Syntax error, '(' expected\r\n(13,31): error CS1525: Invalid expression term 'else'\r\n(13,31): error CS1026: ) expected\r\n(13,31): error CS8641: 'else' cannot start a statement.\r\n(13,31): error CS1003: Syntax error, '(' expected\r\n(13,31): error CS1525: Invalid expression term 'else'\r\n(13,31): error CS1026: ) expected\r\n(13,31): error CS1525: Invalid expression term 'else'\r\n(13,31): error CS1002: ; expected\r\n(13,36): error CS1525: Invalid expression term 'if'\r\n(13,36): error CS1002: ; expected\r\n(13,38): error CS1003: Syntax error, '(' expected\r\n(16,3): error CS1003: Syntax error, ']' expected\r\n(16,3): error CS1026: ) expected\r\n(16,5): error CS1003: Syntax error, '(' expected\r\n(16,6): error CS1525: Invalid expression term 'else'\r\n(16,6): error CS1026: ) expected\r\n(16,6): error CS8641: 'else' cannot start a statement.\r\n(16,6): error CS1003: Syntax error, '(' expected\r\n(16,6): error CS1525: Invalid expression term 'else'\r\n(16,6): error CS1026: ) expected\r\n(16,6): error CS1525: Invalid expression term 'else'\r\n(16,6): error CS1002: ; expected\r\n(16,11): error CS1525: Invalid expression term 'if'\r\n(16,11): error CS1002: ; expected\r\n(16,13): error CS1003: Syntax error, '(' expected\r\n(16,13): error CS1525: Invalid expression term ']'\r\n(16,13): error CS1026: ) expected\r\n(16,13): error CS1525: Invalid expression term ']'\r\n(16,13): error CS1002: ; expected\r\n(16,13): error CS7017: Member definition, statement, or end-of-file expected\r\n(16,15): error CS1525: Invalid expression term '.'\r\n(16,16): error CS1001: Identifier expected\r\n(16,24): error CS1525: Invalid expression term 'if'\r\n(16,24): error CS1026: ) expected\r\n(16,24): error CS1002: ; expected\r\n(16,26): error CS1003: Syntax error, '(' expected\r\n(16,27): error CS1525: Invalid expression term 'else'\r\n(16,27): error CS1026: ) expected\r\n(16,27): error CS8641: 'else' cannot start a statement.\r\n(16,27): error CS1003: Syntax error, '(' expected\r\n(16,27): error CS1525: Invalid expression term 'else'\r\n(16,27): error CS1026: ) expected\r\n(16,27): error CS1525: Invalid expression term 'else'\r\n(16,27): error CS1002: ; expected\r\n(16,32): error CS1525: Invalid expression term 'if'\r\n(16,32): error CS1002: ; expected\r\n(16,34): error CS1003: Syntax error, '(' expected\r\n(16,34): error CS1525: Invalid expression term '.'\r\n(18,9): error CS1002: ; expected\r\n(18,28): error CS1002: ; expected\r\n(18,31): error CS1525: Invalid expression term 'while'\r\n(18,31): error CS1002: ; expected\r\n(18,36): error CS1003: Syntax error, '(' expected\r\n(20,3): error CS1003: Syntax error, ']' expected\r\n(20,3): error CS1026: ) expected\r\n(20,3): error CS1002: ; expected\r\n(20,6): error CS1525: Invalid expression term 'while'\r\n(20,6): error CS1002: ; expected\r\n(20,11): error CS1003: Syntax error, '(' expected\r\n(20,11): error CS1525: Invalid expression term ']'\r\n(20,11): error CS1026: ) expected\r\n(20,11): error CS1002: ; expected\r\n(20,11): error CS7017: Member definition, statement, or end-of-file expected\r\n(20,13): error CS1525: Invalid expression term '.'\r\n(20,14): error CS1001: Identifier expected\r\n(20,22): error CS1525: Invalid expression term 'do'\r\n(20,22): error CS1026: ) expected\r\n(20,22): error CS1002: ; expected\r\n(20,25): error CS1525: Invalid expression term 'while'\r\n(20,25): error CS1002: ; expected\r\n(20,30): error CS1003: Syntax error, '(' expected\r\n(20,30): error CS1525: Invalid expression term '.'\r\n(20,35): error CS1002: ; expected\r\n(23,9): error CS1002: ; expected\r\n(23,28): error CS1002: ; expected\r\n(23,31): error CS1003: Syntax error, '(' expected\r\n(25,3): error CS1003: Syntax error, ']' expected\r\n(25,3): error CS1002: ; expected\r\n(25,3): error CS1525: Invalid expression term 'for'\r\n(25,3): error CS1002: ; expected\r\n(25,3): error CS1026: ) expected\r\n(25,6): error CS1003: Syntax error, '(' expected\r\n(25,6): error CS1001: Identifier expected\r\n(25,8): error CS1525: Invalid expression term '.'\r\n(25,9): error CS1001: Identifier expected\r\n(25,17): error CS1525: Invalid expression term 'for'\r\n(25,17): error CS1026: ) expected\r\n(25,17): error CS1002: ; expected\r\n(25,17): error CS1525: Invalid expression term 'for'\r\n(25,17): error CS1002: ; expected\r\n(25,17): error CS1026: ) expected\r\n(25,20): error CS1003: Syntax error, '(' expected\r\n(25,20): error CS1001: Identifier expected\r\n(25,24): error CS1002: ; expected\r\n(25,24): error CS1525: Invalid expression term ')'\r\n(25,24): error CS1002: ; expected\r\n(25,25): error CS1733: Expected expression\r\n(25,25): error CS1002: ; expected",
     "output_type": "error",
     "traceback": [
      "(1,1): error CS1024: Preprocessor directive expected\r\n",
      "(3,19): error CS1002: ; expected\r\n",
      "(3,56): error CS1002: ; expected\r\n",
      "(5,9): error CS1002: ; expected\r\n",
      "(5,28): error CS1002: ; expected\r\n",
      "(5,30): error CS1003: Syntax error, '(' expected\r\n",
      "(7,3): error CS1003: Syntax error, ']' expected\r\n",
      "(7,3): error CS1026: ) expected\r\n",
      "(7,5): error CS1003: Syntax error, '(' expected\r\n",
      "(7,5): error CS1525: Invalid expression term ']'\r\n",
      "(7,5): error CS1026: ) expected\r\n",
      "(7,5): error CS1525: Invalid expression term ']'\r\n",
      "(7,5): error CS1002: ; expected\r\n",
      "(7,5): error CS7017: Member definition, statement, or end-of-file expected\r\n",
      "(7,7): error CS1525: Invalid expression term '.'\r\n",
      "(7,8): error CS1001: Identifier expected\r\n",
      "(7,16): error CS1525: Invalid expression term 'if'\r\n",
      "(7,16): error CS1026: ) expected\r\n",
      "(7,16): error CS1002: ; expected\r\n",
      "(7,18): error CS1003: Syntax error, '(' expected\r\n",
      "(7,18): error CS1525: Invalid expression term '.'\r\n",
      "(9,9): error CS1002: ; expected\r\n",
      "(9,28): error CS1002: ; expected\r\n",
      "(9,30): error CS1003: Syntax error, '(' expected\r\n",
      "(9,31): error CS1525: Invalid expression term 'else'\r\n",
      "(9,31): error CS1026: ) expected\r\n",
      "(9,31): error CS8641: 'else' cannot start a statement.\r\n",
      "(9,31): error CS1003: Syntax error, '(' expected\r\n",
      "(9,31): error CS1525: Invalid expression term 'else'\r\n",
      "(9,31): error CS1026: ) expected\r\n",
      "(9,31): error CS1525: Invalid expression term 'else'\r\n",
      "(9,31): error CS1002: ; expected\r\n",
      "(11,3): error CS1003: Syntax error, ']' expected\r\n",
      "(11,3): error CS1002: ; expected\r\n",
      "(11,5): error CS1003: Syntax error, '(' expected\r\n",
      "(11,6): error CS1525: Invalid expression term 'else'\r\n",
      "(11,6): error CS1026: ) expected\r\n",
      "(11,6): error CS8641: 'else' cannot start a statement.\r\n",
      "(11,6): error CS1003: Syntax error, '(' expected\r\n",
      "(11,6): error CS1525: Invalid expression term 'else'\r\n",
      "(11,6): error CS1026: ) expected\r\n",
      "(11,6): error CS1525: Invalid expression term 'else'\r\n",
      "(11,6): error CS1002: ; expected\r\n",
      "(11,10): error CS1525: Invalid expression term ']'\r\n",
      "(11,10): error CS1002: ; expected\r\n",
      "(11,10): error CS7017: Member definition, statement, or end-of-file expected\r\n",
      "(11,12): error CS1525: Invalid expression term '.'\r\n",
      "(11,13): error CS1001: Identifier expected\r\n",
      "(11,21): error CS1525: Invalid expression term 'if'\r\n",
      "(11,21): error CS1026: ) expected\r\n",
      "(11,21): error CS1002: ; expected\r\n",
      "(11,23): error CS1003: Syntax error, '(' expected\r\n",
      "(11,24): error CS1525: Invalid expression term 'else'\r\n",
      "(11,24): error CS1026: ) expected\r\n",
      "(11,24): error CS8641: 'else' cannot start a statement.\r\n",
      "(11,24): error CS1003: Syntax error, '(' expected\r\n",
      "(11,24): error CS1525: Invalid expression term 'else'\r\n",
      "(11,24): error CS1026: ) expected\r\n",
      "(11,24): error CS1525: Invalid expression term 'else'\r\n",
      "(11,24): error CS1002: ; expected\r\n",
      "(11,28): error CS1525: Invalid expression term '.'\r\n",
      "(11,32): error CS1002: ; expected\r\n",
      "(11,32): error CS7017: Member definition, statement, or end-of-file expected\r\n",
      "(13,9): error CS1002: ; expected\r\n",
      "(13,28): error CS1002: ; expected\r\n",
      "(13,30): error CS1003: Syntax error, '(' expected\r\n",
      "(13,31): error CS1525: Invalid expression term 'else'\r\n",
      "(13,31): error CS1026: ) expected\r\n",
      "(13,31): error CS8641: 'else' cannot start a statement.\r\n",
      "(13,31): error CS1003: Syntax error, '(' expected\r\n",
      "(13,31): error CS1525: Invalid expression term 'else'\r\n",
      "(13,31): error CS1026: ) expected\r\n",
      "(13,31): error CS1525: Invalid expression term 'else'\r\n",
      "(13,31): error CS1002: ; expected\r\n",
      "(13,36): error CS1525: Invalid expression term 'if'\r\n",
      "(13,36): error CS1002: ; expected\r\n",
      "(13,38): error CS1003: Syntax error, '(' expected\r\n",
      "(16,3): error CS1003: Syntax error, ']' expected\r\n",
      "(16,3): error CS1026: ) expected\r\n",
      "(16,5): error CS1003: Syntax error, '(' expected\r\n",
      "(16,6): error CS1525: Invalid expression term 'else'\r\n",
      "(16,6): error CS1026: ) expected\r\n",
      "(16,6): error CS8641: 'else' cannot start a statement.\r\n",
      "(16,6): error CS1003: Syntax error, '(' expected\r\n",
      "(16,6): error CS1525: Invalid expression term 'else'\r\n",
      "(16,6): error CS1026: ) expected\r\n",
      "(16,6): error CS1525: Invalid expression term 'else'\r\n",
      "(16,6): error CS1002: ; expected\r\n",
      "(16,11): error CS1525: Invalid expression term 'if'\r\n",
      "(16,11): error CS1002: ; expected\r\n",
      "(16,13): error CS1003: Syntax error, '(' expected\r\n",
      "(16,13): error CS1525: Invalid expression term ']'\r\n",
      "(16,13): error CS1026: ) expected\r\n",
      "(16,13): error CS1525: Invalid expression term ']'\r\n",
      "(16,13): error CS1002: ; expected\r\n",
      "(16,13): error CS7017: Member definition, statement, or end-of-file expected\r\n",
      "(16,15): error CS1525: Invalid expression term '.'\r\n",
      "(16,16): error CS1001: Identifier expected\r\n",
      "(16,24): error CS1525: Invalid expression term 'if'\r\n",
      "(16,24): error CS1026: ) expected\r\n",
      "(16,24): error CS1002: ; expected\r\n",
      "(16,26): error CS1003: Syntax error, '(' expected\r\n",
      "(16,27): error CS1525: Invalid expression term 'else'\r\n",
      "(16,27): error CS1026: ) expected\r\n",
      "(16,27): error CS8641: 'else' cannot start a statement.\r\n",
      "(16,27): error CS1003: Syntax error, '(' expected\r\n",
      "(16,27): error CS1525: Invalid expression term 'else'\r\n",
      "(16,27): error CS1026: ) expected\r\n",
      "(16,27): error CS1525: Invalid expression term 'else'\r\n",
      "(16,27): error CS1002: ; expected\r\n",
      "(16,32): error CS1525: Invalid expression term 'if'\r\n",
      "(16,32): error CS1002: ; expected\r\n",
      "(16,34): error CS1003: Syntax error, '(' expected\r\n",
      "(16,34): error CS1525: Invalid expression term '.'\r\n",
      "(18,9): error CS1002: ; expected\r\n",
      "(18,28): error CS1002: ; expected\r\n",
      "(18,31): error CS1525: Invalid expression term 'while'\r\n",
      "(18,31): error CS1002: ; expected\r\n",
      "(18,36): error CS1003: Syntax error, '(' expected\r\n",
      "(20,3): error CS1003: Syntax error, ']' expected\r\n",
      "(20,3): error CS1026: ) expected\r\n",
      "(20,3): error CS1002: ; expected\r\n",
      "(20,6): error CS1525: Invalid expression term 'while'\r\n",
      "(20,6): error CS1002: ; expected\r\n",
      "(20,11): error CS1003: Syntax error, '(' expected\r\n",
      "(20,11): error CS1525: Invalid expression term ']'\r\n",
      "(20,11): error CS1026: ) expected\r\n",
      "(20,11): error CS1002: ; expected\r\n",
      "(20,11): error CS7017: Member definition, statement, or end-of-file expected\r\n",
      "(20,13): error CS1525: Invalid expression term '.'\r\n",
      "(20,14): error CS1001: Identifier expected\r\n",
      "(20,22): error CS1525: Invalid expression term 'do'\r\n",
      "(20,22): error CS1026: ) expected\r\n",
      "(20,22): error CS1002: ; expected\r\n",
      "(20,25): error CS1525: Invalid expression term 'while'\r\n",
      "(20,25): error CS1002: ; expected\r\n",
      "(20,30): error CS1003: Syntax error, '(' expected\r\n",
      "(20,30): error CS1525: Invalid expression term '.'\r\n",
      "(20,35): error CS1002: ; expected\r\n",
      "(23,9): error CS1002: ; expected\r\n",
      "(23,28): error CS1002: ; expected\r\n",
      "(23,31): error CS1003: Syntax error, '(' expected\r\n",
      "(25,3): error CS1003: Syntax error, ']' expected\r\n",
      "(25,3): error CS1002: ; expected\r\n",
      "(25,3): error CS1525: Invalid expression term 'for'\r\n",
      "(25,3): error CS1002: ; expected\r\n",
      "(25,3): error CS1026: ) expected\r\n",
      "(25,6): error CS1003: Syntax error, '(' expected\r\n",
      "(25,6): error CS1001: Identifier expected\r\n",
      "(25,8): error CS1525: Invalid expression term '.'\r\n",
      "(25,9): error CS1001: Identifier expected\r\n",
      "(25,17): error CS1525: Invalid expression term 'for'\r\n",
      "(25,17): error CS1026: ) expected\r\n",
      "(25,17): error CS1002: ; expected\r\n",
      "(25,17): error CS1525: Invalid expression term 'for'\r\n",
      "(25,17): error CS1002: ; expected\r\n",
      "(25,17): error CS1026: ) expected\r\n",
      "(25,20): error CS1003: Syntax error, '(' expected\r\n",
      "(25,20): error CS1001: Identifier expected\r\n",
      "(25,24): error CS1002: ; expected\r\n",
      "(25,24): error CS1525: Invalid expression term ')'\r\n",
      "(25,24): error CS1002: ; expected\r\n",
      "(25,25): error CS1733: Expected expression\r\n",
      "(25,25): error CS1002: ; expected"
     ]
    }
   ],
   "source": [
    "## การบ้าน\n",
    "\n",
    "ให้สร้าง notebook แล้ววาดไดอะแกรมต่อไปนี้โดยใช้ mermaid\n",
    "\n",
    "1. flow chart สำหรับคำสั่ง if\n",
    "\n",
    "![if](./Images/if.svg)\n",
    "\n",
    "2. flow chart สำหรับคำสั่ง if-else\n",
    "\n",
    "![if-else](./Images/if-else.svg)\n",
    "\n",
    "3. flow chart สำหรับคำสั่ง if-else-if\n",
    "\n",
    "\n",
    "![if-else-if](./Images/if-else-if.svg)\n",
    "\n",
    "4. flow chart สำหรับคำสั่ง do-while\n",
    "\n",
    "![do-while](./Images/do-while.svg)\n",
    "\n",
    "\n",
    "5. flow chart สำหรับคำสั่ง for\n",
    "\n",
    "![for](./Images/for.svg)\n"
   ]
  }
 ],
 "metadata": {
  "kernelspec": {
   "display_name": ".NET (C#)",
   "language": "C#",
   "name": ".net-csharp"
  },
  "polyglot_notebook": {
   "kernelInfo": {
    "defaultKernelName": "csharp",
    "items": [
     {
      "aliases": [],
      "languageName": "csharp",
      "name": "csharp"
     }
    ]
   }
  }
 },
 "nbformat": 4,
 "nbformat_minor": 2
}
